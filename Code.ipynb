{
 "cells": [
  {
   "cell_type": "markdown",
   "id": "4e4f2775",
   "metadata": {},
   "source": [
    "#### Importing required Libraries"
   ]
  },
  {
   "cell_type": "code",
   "execution_count": 32,
   "id": "dfa3f9b9",
   "metadata": {},
   "outputs": [],
   "source": [
    "# Importing the pandas library for data manipulation and analysis\n",
    "import pandas as pd\n",
    "\n",
    "# Importing NumPy for numerical computations\n",
    "import numpy as np\n",
    "\n",
    "# Importing matplotlib for data visualization\n",
    "import matplotlib.pyplot as plt\n",
    "\n",
    "# Importing seaborn for enhanced data visualization\n",
    "import seaborn as sns\n",
    "\n",
    "# Importing MinMaxScaler for normalizing the data\n",
    "from sklearn.preprocessing import MinMaxScaler\n",
    "\n",
    "# Importing necessary modules from Keras to build a neural network\n",
    "from tensorflow.keras.models import Sequential  # To initialize the neural network\n",
    "from tensorflow.keras.layers import LSTM, Dense, Dropout  # To add LSTM, Dense, and Dropout layers\n",
    "\n",
    "# Suppressing all warnings for cleaner output\n",
    "import warnings\n",
    "warnings.filterwarnings('ignore')\n"
   ]
  },
  {
   "cell_type": "markdown",
   "id": "1af4919d",
   "metadata": {},
   "source": [
    "#### Loading dataset"
   ]
  },
  {
   "cell_type": "code",
   "execution_count": 33,
   "id": "50a8c1e2",
   "metadata": {},
   "outputs": [],
   "source": [
    "# Defining the file path for the training dataset\n",
    "train_path = 'dataset/train.csv'\n",
    "\n",
    "# Defining the file path for the testing dataset\n",
    "test_path = 'dataset/test.csv'\n",
    "\n",
    "# Reading the training dataset into a pandas DataFrame\n",
    "train_data = pd.read_csv(train_path)\n",
    "\n",
    "# Reading the testing dataset into a pandas DataFrame\n",
    "test_data = pd.read_csv(test_path)\n"
   ]
  },
  {
   "cell_type": "markdown",
   "id": "d5d4951c",
   "metadata": {},
   "source": [
    "#### Head of dataset"
   ]
  },
  {
   "cell_type": "code",
   "execution_count": 34,
   "id": "728919d5",
   "metadata": {},
   "outputs": [
    {
     "name": "stdout",
     "output_type": "stream",
     "text": [
      "   tBodyAcc-mean()-X  tBodyAcc-mean()-Y  tBodyAcc-mean()-Z  tBodyAcc-std()-X  \\\n",
      "0           0.288585          -0.020294          -0.132905         -0.995279   \n",
      "1           0.278419          -0.016411          -0.123520         -0.998245   \n",
      "2           0.279653          -0.019467          -0.113462         -0.995380   \n",
      "3           0.279174          -0.026201          -0.123283         -0.996091   \n",
      "4           0.276629          -0.016570          -0.115362         -0.998139   \n",
      "\n",
      "   tBodyAcc-std()-Y  tBodyAcc-std()-Z  tBodyAcc-mad()-X  tBodyAcc-mad()-Y  \\\n",
      "0         -0.983111         -0.913526         -0.995112         -0.983185   \n",
      "1         -0.975300         -0.960322         -0.998807         -0.974914   \n",
      "2         -0.967187         -0.978944         -0.996520         -0.963668   \n",
      "3         -0.983403         -0.990675         -0.997099         -0.982750   \n",
      "4         -0.980817         -0.990482         -0.998321         -0.979672   \n",
      "\n",
      "   tBodyAcc-mad()-Z  tBodyAcc-max()-X  ...  fBodyBodyGyroJerkMag-kurtosis()  \\\n",
      "0         -0.923527         -0.934724  ...                        -0.710304   \n",
      "1         -0.957686         -0.943068  ...                        -0.861499   \n",
      "2         -0.977469         -0.938692  ...                        -0.760104   \n",
      "3         -0.989302         -0.938692  ...                        -0.482845   \n",
      "4         -0.990441         -0.942469  ...                        -0.699205   \n",
      "\n",
      "   angle(tBodyAccMean,gravity)  angle(tBodyAccJerkMean),gravityMean)  \\\n",
      "0                    -0.112754                              0.030400   \n",
      "1                     0.053477                             -0.007435   \n",
      "2                    -0.118559                              0.177899   \n",
      "3                    -0.036788                             -0.012892   \n",
      "4                     0.123320                              0.122542   \n",
      "\n",
      "   angle(tBodyGyroMean,gravityMean)  angle(tBodyGyroJerkMean,gravityMean)  \\\n",
      "0                         -0.464761                             -0.018446   \n",
      "1                         -0.732626                              0.703511   \n",
      "2                          0.100699                              0.808529   \n",
      "3                          0.640011                             -0.485366   \n",
      "4                          0.693578                             -0.615971   \n",
      "\n",
      "   angle(X,gravityMean)  angle(Y,gravityMean)  angle(Z,gravityMean)  subject  \\\n",
      "0             -0.841247              0.179941             -0.058627        1   \n",
      "1             -0.844788              0.180289             -0.054317        1   \n",
      "2             -0.848933              0.180637             -0.049118        1   \n",
      "3             -0.848649              0.181935             -0.047663        1   \n",
      "4             -0.847865              0.185151             -0.043892        1   \n",
      "\n",
      "   Activity  \n",
      "0  STANDING  \n",
      "1  STANDING  \n",
      "2  STANDING  \n",
      "3  STANDING  \n",
      "4  STANDING  \n",
      "\n",
      "[5 rows x 563 columns]\n"
     ]
    }
   ],
   "source": [
    "# Displaying the first 5 rows of the training dataset to understand its structure\n",
    "print(train_data.head())"
   ]
  },
  {
   "cell_type": "code",
   "execution_count": 35,
   "id": "ad98b755",
   "metadata": {},
   "outputs": [
    {
     "name": "stdout",
     "output_type": "stream",
     "text": [
      "   tBodyAcc-mean()-X  tBodyAcc-mean()-Y  tBodyAcc-mean()-Z  tBodyAcc-std()-X  \\\n",
      "0           0.257178          -0.023285          -0.014654         -0.938404   \n",
      "1           0.286027          -0.013163          -0.119083         -0.975415   \n",
      "2           0.275485          -0.026050          -0.118152         -0.993819   \n",
      "3           0.270298          -0.032614          -0.117520         -0.994743   \n",
      "4           0.274833          -0.027848          -0.129527         -0.993852   \n",
      "\n",
      "   tBodyAcc-std()-Y  tBodyAcc-std()-Z  tBodyAcc-mad()-X  tBodyAcc-mad()-Y  \\\n",
      "0         -0.920091         -0.667683         -0.952501         -0.925249   \n",
      "1         -0.967458         -0.944958         -0.986799         -0.968401   \n",
      "2         -0.969926         -0.962748         -0.994403         -0.970735   \n",
      "3         -0.973268         -0.967091         -0.995274         -0.974471   \n",
      "4         -0.967445         -0.978295         -0.994111         -0.965953   \n",
      "\n",
      "   tBodyAcc-mad()-Z  tBodyAcc-max()-X  ...  fBodyBodyGyroJerkMag-kurtosis()  \\\n",
      "0         -0.674302         -0.894088  ...                        -0.705974   \n",
      "1         -0.945823         -0.894088  ...                        -0.594944   \n",
      "2         -0.963483         -0.939260  ...                        -0.640736   \n",
      "3         -0.968897         -0.938610  ...                        -0.736124   \n",
      "4         -0.977346         -0.938610  ...                        -0.846595   \n",
      "\n",
      "   angle(tBodyAccMean,gravity)  angle(tBodyAccJerkMean),gravityMean)  \\\n",
      "0                     0.006462                              0.162920   \n",
      "1                    -0.083495                              0.017500   \n",
      "2                    -0.034956                              0.202302   \n",
      "3                    -0.017067                              0.154438   \n",
      "4                    -0.002223                             -0.040046   \n",
      "\n",
      "   angle(tBodyGyroMean,gravityMean)  angle(tBodyGyroJerkMean,gravityMean)  \\\n",
      "0                         -0.825886                              0.271151   \n",
      "1                         -0.434375                              0.920593   \n",
      "2                          0.064103                              0.145068   \n",
      "3                          0.340134                              0.296407   \n",
      "4                          0.736715                             -0.118545   \n",
      "\n",
      "   angle(X,gravityMean)  angle(Y,gravityMean)  angle(Z,gravityMean)  subject  \\\n",
      "0             -0.720009              0.276801             -0.057978        2   \n",
      "1             -0.698091              0.281343             -0.083898        2   \n",
      "2             -0.702771              0.280083             -0.079346        2   \n",
      "3             -0.698954              0.284114             -0.077108        2   \n",
      "4             -0.692245              0.290722             -0.073857        2   \n",
      "\n",
      "   Activity  \n",
      "0  STANDING  \n",
      "1  STANDING  \n",
      "2  STANDING  \n",
      "3  STANDING  \n",
      "4  STANDING  \n",
      "\n",
      "[5 rows x 563 columns]\n"
     ]
    }
   ],
   "source": [
    "# Displaying the first 5 rows of the testing dataset to understand its structure\n",
    "print(test_data.head())"
   ]
  },
  {
   "cell_type": "markdown",
   "id": "86b8aadf",
   "metadata": {},
   "source": [
    "#### EDA of data"
   ]
  },
  {
   "cell_type": "code",
   "execution_count": 36,
   "id": "d4ccf167",
   "metadata": {},
   "outputs": [
    {
     "name": "stdout",
     "output_type": "stream",
     "text": [
      "Train shape: (7352, 563)\n",
      "Test shape: (2947, 563)\n"
     ]
    }
   ],
   "source": [
    "# Printing the number of rows and columns in the training dataset\n",
    "print(\"Train shape:\", train_data.shape)\n",
    "\n",
    "# Printing the number of rows and columns in the testing dataset\n",
    "print(\"Test shape:\", test_data.shape)\n"
   ]
  },
  {
   "cell_type": "code",
   "execution_count": 37,
   "id": "d59ac2b2",
   "metadata": {},
   "outputs": [
    {
     "name": "stdout",
     "output_type": "stream",
     "text": [
      "<class 'pandas.core.frame.DataFrame'>\n",
      "RangeIndex: 7352 entries, 0 to 7351\n",
      "Columns: 563 entries, tBodyAcc-mean()-X to Activity\n",
      "dtypes: float64(561), int64(1), object(1)\n",
      "memory usage: 31.6+ MB\n",
      "None\n",
      "<class 'pandas.core.frame.DataFrame'>\n",
      "RangeIndex: 2947 entries, 0 to 2946\n",
      "Columns: 563 entries, tBodyAcc-mean()-X to Activity\n",
      "dtypes: float64(561), int64(1), object(1)\n",
      "memory usage: 12.7+ MB\n",
      "None\n"
     ]
    }
   ],
   "source": [
    "# Displaying summary information about the training dataset, including column names, non-null counts, and data types\n",
    "print(train_data.info())\n",
    "\n",
    "# Displaying summary information about the testing dataset, including column names, non-null counts, and data types\n",
    "print(test_data.info())"
   ]
  },
  {
   "cell_type": "code",
   "execution_count": 38,
   "id": "e89512fe",
   "metadata": {},
   "outputs": [
    {
     "name": "stdout",
     "output_type": "stream",
     "text": [
      "       tBodyAcc-mean()-X  tBodyAcc-mean()-Y  tBodyAcc-mean()-Z  \\\n",
      "count        7352.000000        7352.000000        7352.000000   \n",
      "mean            0.274488          -0.017695          -0.109141   \n",
      "std             0.070261           0.040811           0.056635   \n",
      "min            -1.000000          -1.000000          -1.000000   \n",
      "25%             0.262975          -0.024863          -0.120993   \n",
      "50%             0.277193          -0.017219          -0.108676   \n",
      "75%             0.288461          -0.010783          -0.097794   \n",
      "max             1.000000           1.000000           1.000000   \n",
      "\n",
      "       tBodyAcc-std()-X  tBodyAcc-std()-Y  tBodyAcc-std()-Z  tBodyAcc-mad()-X  \\\n",
      "count       7352.000000       7352.000000       7352.000000       7352.000000   \n",
      "mean          -0.605438         -0.510938         -0.604754         -0.630512   \n",
      "std            0.448734          0.502645          0.418687          0.424073   \n",
      "min           -1.000000         -0.999873         -1.000000         -1.000000   \n",
      "25%           -0.992754         -0.978129         -0.980233         -0.993591   \n",
      "50%           -0.946196         -0.851897         -0.859365         -0.950709   \n",
      "75%           -0.242813         -0.034231         -0.262415         -0.292680   \n",
      "max            1.000000          0.916238          1.000000          1.000000   \n",
      "\n",
      "       tBodyAcc-mad()-Y  tBodyAcc-mad()-Z  tBodyAcc-max()-X  ...  \\\n",
      "count       7352.000000       7352.000000       7352.000000  ...   \n",
      "mean          -0.526907         -0.606150         -0.468604  ...   \n",
      "std            0.485942          0.414122          0.544547  ...   \n",
      "min           -1.000000         -1.000000         -1.000000  ...   \n",
      "25%           -0.978162         -0.980251         -0.936219  ...   \n",
      "50%           -0.857328         -0.857143         -0.881637  ...   \n",
      "75%           -0.066701         -0.265671         -0.017129  ...   \n",
      "max            0.967664          1.000000          1.000000  ...   \n",
      "\n",
      "       fBodyBodyGyroJerkMag-skewness()  fBodyBodyGyroJerkMag-kurtosis()  \\\n",
      "count                      7352.000000                      7352.000000   \n",
      "mean                         -0.307009                        -0.625294   \n",
      "std                           0.321011                         0.307584   \n",
      "min                          -0.995357                        -0.999765   \n",
      "25%                          -0.542602                        -0.845573   \n",
      "50%                          -0.343685                        -0.711692   \n",
      "75%                          -0.126979                        -0.503878   \n",
      "max                           0.989538                         0.956845   \n",
      "\n",
      "       angle(tBodyAccMean,gravity)  angle(tBodyAccJerkMean),gravityMean)  \\\n",
      "count                  7352.000000                           7352.000000   \n",
      "mean                      0.008684                              0.002186   \n",
      "std                       0.336787                              0.448306   \n",
      "min                      -0.976580                             -1.000000   \n",
      "25%                      -0.121527                             -0.289549   \n",
      "50%                       0.009509                              0.008943   \n",
      "75%                       0.150865                              0.292861   \n",
      "max                       1.000000                              1.000000   \n",
      "\n",
      "       angle(tBodyGyroMean,gravityMean)  angle(tBodyGyroJerkMean,gravityMean)  \\\n",
      "count                       7352.000000                           7352.000000   \n",
      "mean                           0.008726                             -0.005981   \n",
      "std                            0.608303                              0.477975   \n",
      "min                           -1.000000                             -1.000000   \n",
      "25%                           -0.482273                             -0.376341   \n",
      "50%                            0.008735                             -0.000368   \n",
      "75%                            0.506187                              0.359368   \n",
      "max                            0.998702                              0.996078   \n",
      "\n",
      "       angle(X,gravityMean)  angle(Y,gravityMean)  angle(Z,gravityMean)  \\\n",
      "count           7352.000000           7352.000000           7352.000000   \n",
      "mean              -0.489547              0.058593             -0.056515   \n",
      "std                0.511807              0.297480              0.279122   \n",
      "min               -1.000000             -1.000000             -1.000000   \n",
      "25%               -0.812065             -0.017885             -0.143414   \n",
      "50%               -0.709417              0.182071              0.003181   \n",
      "75%               -0.509079              0.248353              0.107659   \n",
      "max                1.000000              0.478157              1.000000   \n",
      "\n",
      "           subject  \n",
      "count  7352.000000  \n",
      "mean     17.413085  \n",
      "std       8.975143  \n",
      "min       1.000000  \n",
      "25%       8.000000  \n",
      "50%      19.000000  \n",
      "75%      26.000000  \n",
      "max      30.000000  \n",
      "\n",
      "[8 rows x 562 columns]\n"
     ]
    }
   ],
   "source": [
    "# Displaying descriptive statistics for the numerical columns in the training dataset\n",
    "print(train_data.describe())"
   ]
  },
  {
   "cell_type": "code",
   "execution_count": 39,
   "id": "98b146cf",
   "metadata": {},
   "outputs": [
    {
     "name": "stdout",
     "output_type": "stream",
     "text": [
      "       tBodyAcc-mean()-X  tBodyAcc-mean()-Y  tBodyAcc-mean()-Z  \\\n",
      "count        2947.000000        2947.000000        2947.000000   \n",
      "mean            0.273996          -0.017863          -0.108386   \n",
      "std             0.060570           0.025745           0.042747   \n",
      "min            -0.592004          -0.362884          -0.576184   \n",
      "25%             0.262075          -0.024961          -0.121162   \n",
      "50%             0.277113          -0.016967          -0.108458   \n",
      "75%             0.288097          -0.010143          -0.097123   \n",
      "max             0.671887           0.246106           0.494114   \n",
      "\n",
      "       tBodyAcc-std()-X  tBodyAcc-std()-Y  tBodyAcc-std()-Z  tBodyAcc-mad()-X  \\\n",
      "count       2947.000000       2947.000000       2947.000000       2947.000000   \n",
      "mean          -0.613635         -0.508330         -0.633797         -0.641278   \n",
      "std            0.412597          0.494269          0.362699          0.385199   \n",
      "min           -0.999606         -1.000000         -0.998955         -0.999417   \n",
      "25%           -0.990914         -0.973664         -0.976122         -0.992333   \n",
      "50%           -0.931214         -0.790972         -0.827534         -0.937664   \n",
      "75%           -0.267395         -0.105919         -0.311432         -0.321719   \n",
      "max            0.465299          1.000000          0.489703          0.439657   \n",
      "\n",
      "       tBodyAcc-mad()-Y  tBodyAcc-mad()-Z  tBodyAcc-max()-X  ...  \\\n",
      "count       2947.000000       2947.000000       2947.000000  ...   \n",
      "mean          -0.522676         -0.637038         -0.462063  ...   \n",
      "std            0.479899          0.357753          0.523916  ...   \n",
      "min           -0.999914         -0.998899         -0.952357  ...   \n",
      "25%           -0.974131         -0.975352         -0.934447  ...   \n",
      "50%           -0.799907         -0.817005         -0.852659  ...   \n",
      "75%           -0.133488         -0.322771         -0.009965  ...   \n",
      "max            1.000000          0.427958          0.786436  ...   \n",
      "\n",
      "       fBodyBodyGyroJerkMag-skewness()  fBodyBodyGyroJerkMag-kurtosis()  \\\n",
      "count                      2947.000000                      2947.000000   \n",
      "mean                         -0.277593                        -0.598756   \n",
      "std                           0.317245                         0.311042   \n",
      "min                          -1.000000                        -1.000000   \n",
      "25%                          -0.517494                        -0.829593   \n",
      "50%                          -0.311023                        -0.683672   \n",
      "75%                          -0.083559                        -0.458332   \n",
      "max                           1.000000                         1.000000   \n",
      "\n",
      "       angle(tBodyAccMean,gravity)  angle(tBodyAccJerkMean),gravityMean)  \\\n",
      "count                  2947.000000                           2947.000000   \n",
      "mean                      0.005264                              0.003799   \n",
      "std                       0.336147                              0.445077   \n",
      "min                      -1.000000                             -0.993402   \n",
      "25%                      -0.130541                             -0.282600   \n",
      "50%                       0.005188                              0.006767   \n",
      "75%                       0.146200                              0.288113   \n",
      "max                       0.998898                              0.986347   \n",
      "\n",
      "       angle(tBodyGyroMean,gravityMean)  angle(tBodyGyroJerkMean,gravityMean)  \\\n",
      "count                       2947.000000                           2947.000000   \n",
      "mean                           0.040029                             -0.017298   \n",
      "std                            0.634989                              0.501311   \n",
      "min                           -0.998898                             -0.991096   \n",
      "25%                           -0.518924                             -0.428375   \n",
      "50%                            0.047113                             -0.026726   \n",
      "75%                            0.622151                              0.394387   \n",
      "max                            1.000000                              1.000000   \n",
      "\n",
      "       angle(X,gravityMean)  angle(Y,gravityMean)  angle(Z,gravityMean)  \\\n",
      "count           2947.000000           2947.000000           2947.000000   \n",
      "mean              -0.513923              0.074886             -0.048720   \n",
      "std                0.509205              0.324300              0.241467   \n",
      "min               -0.984195             -0.913704             -0.949228   \n",
      "25%               -0.829722              0.022140             -0.098485   \n",
      "50%               -0.729648              0.181563             -0.010671   \n",
      "75%               -0.545939              0.260252              0.092373   \n",
      "max                0.833180              1.000000              0.973113   \n",
      "\n",
      "           subject  \n",
      "count  2947.000000  \n",
      "mean     12.986427  \n",
      "std       6.950984  \n",
      "min       2.000000  \n",
      "25%       9.000000  \n",
      "50%      12.000000  \n",
      "75%      18.000000  \n",
      "max      24.000000  \n",
      "\n",
      "[8 rows x 562 columns]\n"
     ]
    }
   ],
   "source": [
    "# Displaying descriptive statistics for the numerical columns in the testing dataset\n",
    "print(test_data.describe())"
   ]
  },
  {
   "cell_type": "markdown",
   "id": "a09a136c",
   "metadata": {},
   "source": [
    "#### Checking for missing values"
   ]
  },
  {
   "cell_type": "code",
   "execution_count": 40,
   "id": "d412b62d",
   "metadata": {},
   "outputs": [
    {
     "name": "stdout",
     "output_type": "stream",
     "text": [
      "tBodyAcc-mean()-X            0\n",
      "fBodyAccJerk-kurtosis()-Y    0\n",
      "fBodyAccJerk-meanFreq()-X    0\n",
      "fBodyAccJerk-meanFreq()-Y    0\n",
      "fBodyAccJerk-meanFreq()-Z    0\n",
      "fBodyAccJerk-skewness()-X    0\n",
      "fBodyAccJerk-kurtosis()-X    0\n",
      "fBodyAccJerk-skewness()-Y    0\n",
      "fBodyAccJerk-skewness()-Z    0\n",
      "fBodyAccJerk-maxInds-Y       0\n",
      "dtype: int64\n",
      "tBodyAcc-mean()-X            0\n",
      "fBodyAccJerk-kurtosis()-Y    0\n",
      "fBodyAccJerk-meanFreq()-X    0\n",
      "fBodyAccJerk-meanFreq()-Y    0\n",
      "fBodyAccJerk-meanFreq()-Z    0\n",
      "fBodyAccJerk-skewness()-X    0\n",
      "fBodyAccJerk-kurtosis()-X    0\n",
      "fBodyAccJerk-skewness()-Y    0\n",
      "fBodyAccJerk-skewness()-Z    0\n",
      "fBodyAccJerk-maxInds-Y       0\n",
      "dtype: int64\n"
     ]
    }
   ],
   "source": [
    "# Checking for missing values in the training dataset,\n",
    "# sorting them in descending order, and displaying the top 10 columns with the most missing values\n",
    "print(train_data.isnull().sum().sort_values(ascending=False).head(10))\n",
    "\n",
    "# Checking for missing values in the testing dataset,\n",
    "# sorting them in descending order, and displaying the top 10 columns with the most missing values\n",
    "print(test_data.isnull().sum().sort_values(ascending=False).head(10))\n"
   ]
  },
  {
   "cell_type": "markdown",
   "id": "a6cd50d9",
   "metadata": {},
   "source": [
    "##### Checking for target variable distribution"
   ]
  },
  {
   "cell_type": "code",
   "execution_count": 41,
   "id": "9998a128",
   "metadata": {},
   "outputs": [
    {
     "data": {
      "image/png": "[encoded data removed]",
      "text/plain": [
       "<Figure size 640x480 with 1 Axes>"
      ]
     },
     "metadata": {},
     "output_type": "display_data"
    }
   ],
   "source": [
    "# Creating a count plot to visualize the distribution of the 'Activity' column in the training dataset\n",
    "sns.countplot(data=train_data, x='Activity')\n",
    "\n",
    "# Rotating the x-axis labels by 45 degrees for better readability\n",
    "plt.xticks(rotation=45)\n",
    "\n",
    "# Setting the title of the plot\n",
    "plt.title(\"Activity Distribution\")\n",
    "\n",
    "# Displaying the plot\n",
    "plt.show()\n"
   ]
  },
  {
   "cell_type": "markdown",
   "id": "f7609069",
   "metadata": {},
   "source": [
    "##### Checking for Class Balance"
   ]
  },
  {
   "cell_type": "code",
   "execution_count": 42,
   "id": "c49b733d",
   "metadata": {},
   "outputs": [
    {
     "data": {
      "image/png": "[encoded data removed]",
      "text/plain": [
       "<Figure size 600x600 with 1 Axes>"
      ]
     },
     "metadata": {},
     "output_type": "display_data"
    }
   ],
   "source": [
    "# Counting the occurrences of each unique value in the 'Activity' column of the training dataset\n",
    "activity_counts = train_data['Activity'].value_counts()\n",
    "\n",
    "# Creating a pie chart to visualize the proportion of each activity class\n",
    "activity_counts.plot(kind='pie', autopct='%1.1f%%', figsize=(6, 6))\n",
    "\n",
    "# Setting the title for the pie chart\n",
    "plt.title(\"Activity Class Proportions\")\n",
    "\n",
    "# Removing the default y-axis label for cleaner visualization\n",
    "plt.ylabel('')\n",
    "\n",
    "# Displaying the pie chart\n",
    "plt.show()\n"
   ]
  },
  {
   "cell_type": "markdown",
   "id": "40a9bf03",
   "metadata": {},
   "source": [
    "##### Separating features and target"
   ]
  },
  {
   "cell_type": "code",
   "execution_count": 43,
   "id": "4f2dc075",
   "metadata": {},
   "outputs": [],
   "source": [
    "# Creating the training feature set by dropping the 'Activity' target column from the training data\n",
    "X_train = train_data.drop('Activity', axis=1)\n",
    "\n",
    "# Extracting the target labels for training from the 'Activity' column\n",
    "y_train = train_data['Activity']\n",
    "\n",
    "# Creating the testing feature set by dropping the 'Activity' target column from the test data\n",
    "X_test = test_data.drop('Activity', axis=1)\n",
    "\n",
    "# Extracting the target labels for testing from the 'Activity' column\n",
    "y_test = test_data['Activity']\n"
   ]
  },
  {
   "cell_type": "code",
   "execution_count": 29,
   "id": "2af0394f",
   "metadata": {},
   "outputs": [
    {
     "name": "stdout",
     "output_type": "stream",
     "text": [
      "Encoded y_train: [2 2 2 2 2]\n",
      "Label Encoding Mapping:\n",
      " {'LAYING': 0, 'SITTING': 1, 'STANDING': 2, 'WALKING': 3, 'WALKING_DOWNSTAIRS': 4, 'WALKING_UPSTAIRS': 5}\n"
     ]
    }
   ],
   "source": [
    "# Importing LabelEncoder to convert categorical labels into numeric form\n",
    "from sklearn.preprocessing import LabelEncoder\n",
    "\n",
    "# Initializing the LabelEncoder instance\n",
    "label_encoder = LabelEncoder()\n",
    "\n",
    "# Fitting the encoder on the training labels and transforming them into numeric labels\n",
    "y_train = label_encoder.fit_transform(y_train)\n",
    "\n",
    "# Transforming the test labels into numeric labels using the already fitted encoder\n",
    "y_test = label_encoder.transform(y_test)\n",
    "\n",
    "# Printing the first 5 encoded training labels to check the transformation\n",
    "print(\"Encoded y_train:\", y_train[:5])\n",
    "\n",
    "# Creating a dictionary mapping original labels to their encoded numeric values\n",
    "label_mapping = dict(zip(label_encoder.classes_, label_encoder.transform(label_encoder.classes_)))\n",
    "\n",
    "# Printing the label encoding mapping for reference\n",
    "print(\"Label Encoding Mapping:\\n\", label_mapping)\n"
   ]
  },
  {
   "cell_type": "markdown",
   "id": "a919d649",
   "metadata": {},
   "source": [
    "##### Normalize the features using MinMaxScaler"
   ]
  },
  {
   "cell_type": "code",
   "execution_count": 30,
   "id": "4a3e7fe2",
   "metadata": {},
   "outputs": [],
   "source": [
    "# Initializing a MinMaxScaler to scale features to a range between 0 and 1\n",
    "scaler = MinMaxScaler()\n",
    "\n",
    "# Fitting the scaler to the training features and transforming them to the scaled range\n",
    "X_train = scaler.fit_transform(X_train)\n",
    "\n",
    "# Transforming the test features using the previously fitted scaler (to maintain consistency)\n",
    "X_test = scaler.transform(X_test)\n"
   ]
  },
  {
   "cell_type": "markdown",
   "id": "a4d02126",
   "metadata": {},
   "source": [
    "##### Reshaping the input data for LSTM"
   ]
  },
  {
   "cell_type": "code",
   "execution_count": 15,
   "id": "5ca1227a",
   "metadata": {},
   "outputs": [
    {
     "name": "stdout",
     "output_type": "stream",
     "text": [
      "X_train_reshaped shape: (7352, 1, 562)\n",
      "X_test_reshaped shape: (2947, 1, 562)\n"
     ]
    }
   ],
   "source": [
    "# Reshaping training features to 3D shape (samples, time steps, features) for LSTM input\n",
    "X_train_reshaped = X_train.reshape((X_train.shape[0], 1, X_train.shape[1]))\n",
    "\n",
    "# Reshaping test features similarly to match LSTM input requirements\n",
    "X_test_reshaped = X_test.reshape((X_test.shape[0], 1, X_test.shape[1]))\n",
    "\n",
    "# Printing the shape of reshaped training data to verify the new dimensions\n",
    "print(\"X_train_reshaped shape:\", X_train_reshaped.shape)\n",
    "\n",
    "# Printing the shape of reshaped test data to verify the new dimensions\n",
    "print(\"X_test_reshaped shape:\", X_test_reshaped.shape)\n"
   ]
  },
  {
   "cell_type": "markdown",
   "id": "8c4fc449",
   "metadata": {},
   "source": [
    "####  LSTM model"
   ]
  },
  {
   "cell_type": "code",
   "execution_count": 16,
   "id": "507612f5",
   "metadata": {},
   "outputs": [
    {
     "data": {
      "text/html": [
       "<pre style=\"white-space:pre;overflow-x:auto;line-height:normal;font-family:Menlo,'DejaVu Sans Mono',consolas,'Courier New',monospace\"><span style=\"font-weight: bold\">Model: \"sequential\"</span>\n",
       "</pre>\n"
      ],
      "text/plain": [
       "\u001b[1mModel: \"sequential\"\u001b[0m\n"
      ]
     },
     "metadata": {},
     "output_type": "display_data"
    },
    {
     "data": {
      "text/html": [
       "<pre style=\"white-space:pre;overflow-x:auto;line-height:normal;font-family:Menlo,'DejaVu Sans Mono',consolas,'Courier New',monospace\">┏━━━━━━━━━━━━━━━━━━━━━━━━━━━━━━━━━┳━━━━━━━━━━━━━━━━━━━━━━━━┳━━━━━━━━━━━━━━━┓\n",
       "┃<span style=\"font-weight: bold\"> Layer (type)                    </span>┃<span style=\"font-weight: bold\"> Output Shape           </span>┃<span style=\"font-weight: bold\">       Param # </span>┃\n",
       "┡━━━━━━━━━━━━━━━━━━━━━━━━━━━━━━━━━╇━━━━━━━━━━━━━━━━━━━━━━━━╇━━━━━━━━━━━━━━━┩\n",
       "│ lstm (<span style=\"color: #0087ff; text-decoration-color: #0087ff\">LSTM</span>)                     │ (<span style=\"color: #00d7ff; text-decoration-color: #00d7ff\">None</span>, <span style=\"color: #00af00; text-decoration-color: #00af00\">64</span>)             │       <span style=\"color: #00af00; text-decoration-color: #00af00\">160,512</span> │\n",
       "├─────────────────────────────────┼────────────────────────┼───────────────┤\n",
       "│ dropout (<span style=\"color: #0087ff; text-decoration-color: #0087ff\">Dropout</span>)               │ (<span style=\"color: #00d7ff; text-decoration-color: #00d7ff\">None</span>, <span style=\"color: #00af00; text-decoration-color: #00af00\">64</span>)             │             <span style=\"color: #00af00; text-decoration-color: #00af00\">0</span> │\n",
       "├─────────────────────────────────┼────────────────────────┼───────────────┤\n",
       "│ dense (<span style=\"color: #0087ff; text-decoration-color: #0087ff\">Dense</span>)                   │ (<span style=\"color: #00d7ff; text-decoration-color: #00d7ff\">None</span>, <span style=\"color: #00af00; text-decoration-color: #00af00\">6</span>)              │           <span style=\"color: #00af00; text-decoration-color: #00af00\">390</span> │\n",
       "└─────────────────────────────────┴────────────────────────┴───────────────┘\n",
       "</pre>\n"
      ],
      "text/plain": [
       "┏━━━━━━━━━━━━━━━━━━━━━━━━━━━━━━━━━┳━━━━━━━━━━━━━━━━━━━━━━━━┳━━━━━━━━━━━━━━━┓\n",
       "┃\u001b[1m \u001b[0m\u001b[1mLayer (type)                   \u001b[0m\u001b[1m \u001b[0m┃\u001b[1m \u001b[0m\u001b[1mOutput Shape          \u001b[0m\u001b[1m \u001b[0m┃\u001b[1m \u001b[0m\u001b[1m      Param #\u001b[0m\u001b[1m \u001b[0m┃\n",
       "┡━━━━━━━━━━━━━━━━━━━━━━━━━━━━━━━━━╇━━━━━━━━━━━━━━━━━━━━━━━━╇━━━━━━━━━━━━━━━┩\n",
       "│ lstm (\u001b[38;5;33mLSTM\u001b[0m)                     │ (\u001b[38;5;45mNone\u001b[0m, \u001b[38;5;34m64\u001b[0m)             │       \u001b[38;5;34m160,512\u001b[0m │\n",
       "├─────────────────────────────────┼────────────────────────┼───────────────┤\n",
       "│ dropout (\u001b[38;5;33mDropout\u001b[0m)               │ (\u001b[38;5;45mNone\u001b[0m, \u001b[38;5;34m64\u001b[0m)             │             \u001b[38;5;34m0\u001b[0m │\n",
       "├─────────────────────────────────┼────────────────────────┼───────────────┤\n",
       "│ dense (\u001b[38;5;33mDense\u001b[0m)                   │ (\u001b[38;5;45mNone\u001b[0m, \u001b[38;5;34m6\u001b[0m)              │           \u001b[38;5;34m390\u001b[0m │\n",
       "└─────────────────────────────────┴────────────────────────┴───────────────┘\n"
      ]
     },
     "metadata": {},
     "output_type": "display_data"
    },
    {
     "data": {
      "text/html": [
       "<pre style=\"white-space:pre;overflow-x:auto;line-height:normal;font-family:Menlo,'DejaVu Sans Mono',consolas,'Courier New',monospace\"><span style=\"font-weight: bold\"> Total params: </span><span style=\"color: #00af00; text-decoration-color: #00af00\">160,902</span> (628.52 KB)\n",
       "</pre>\n"
      ],
      "text/plain": [
       "\u001b[1m Total params: \u001b[0m\u001b[38;5;34m160,902\u001b[0m (628.52 KB)\n"
      ]
     },
     "metadata": {},
     "output_type": "display_data"
    },
    {
     "data": {
      "text/html": [
       "<pre style=\"white-space:pre;overflow-x:auto;line-height:normal;font-family:Menlo,'DejaVu Sans Mono',consolas,'Courier New',monospace\"><span style=\"font-weight: bold\"> Trainable params: </span><span style=\"color: #00af00; text-decoration-color: #00af00\">160,902</span> (628.52 KB)\n",
       "</pre>\n"
      ],
      "text/plain": [
       "\u001b[1m Trainable params: \u001b[0m\u001b[38;5;34m160,902\u001b[0m (628.52 KB)\n"
      ]
     },
     "metadata": {},
     "output_type": "display_data"
    },
    {
     "data": {
      "text/html": [
       "<pre style=\"white-space:pre;overflow-x:auto;line-height:normal;font-family:Menlo,'DejaVu Sans Mono',consolas,'Courier New',monospace\"><span style=\"font-weight: bold\"> Non-trainable params: </span><span style=\"color: #00af00; text-decoration-color: #00af00\">0</span> (0.00 B)\n",
       "</pre>\n"
      ],
      "text/plain": [
       "\u001b[1m Non-trainable params: \u001b[0m\u001b[38;5;34m0\u001b[0m (0.00 B)\n"
      ]
     },
     "metadata": {},
     "output_type": "display_data"
    }
   ],
   "source": [
    "# Initializing a sequential neural network model\n",
    "model = Sequential()\n",
    "\n",
    "# Adding an LSTM layer with 64 units, specifying input shape as (time steps, features)\n",
    "model.add(LSTM(64, input_shape=(X_train_reshaped.shape[1], X_train_reshaped.shape[2])))\n",
    "\n",
    "# Adding a Dropout layer to reduce overfitting by randomly disabling 50% of the neurons during training\n",
    "model.add(Dropout(0.5))\n",
    "\n",
    "# Adding a Dense output layer with 6 units (number of classes) and softmax activation for multi-class classification\n",
    "model.add(Dense(6, activation='softmax'))\n",
    "\n",
    "# Compiling the model with Adam optimizer, sparse categorical cross-entropy loss for integer labels, and accuracy metric\n",
    "model.compile(optimizer='adam', loss='sparse_categorical_crossentropy', metrics=['accuracy'])\n",
    "\n",
    "# Printing a summary of the model architecture\n",
    "model.summary()\n"
   ]
  },
  {
   "cell_type": "markdown",
   "id": "737199ad",
   "metadata": {},
   "source": [
    "#### Trainig model"
   ]
  },
  {
   "cell_type": "code",
   "execution_count": 17,
   "id": "91471a5d",
   "metadata": {},
   "outputs": [
    {
     "name": "stdout",
     "output_type": "stream",
     "text": [
      "Epoch 1/100\n",
      "\u001b[1m115/115\u001b[0m \u001b[32m━━━━━━━━━━━━━━━━━━━━\u001b[0m\u001b[37m\u001b[0m \u001b[1m3s\u001b[0m 8ms/step - accuracy: 0.5327 - loss: 1.1602 - val_accuracy: 0.8823 - val_loss: 0.4335\n",
      "Epoch 2/100\n",
      "\u001b[1m115/115\u001b[0m \u001b[32m━━━━━━━━━━━━━━━━━━━━\u001b[0m\u001b[37m\u001b[0m \u001b[1m1s\u001b[0m 5ms/step - accuracy: 0.8613 - loss: 0.3942 - val_accuracy: 0.9094 - val_loss: 0.2860\n",
      "Epoch 3/100\n",
      "\u001b[1m115/115\u001b[0m \u001b[32m━━━━━━━━━━━━━━━━━━━━\u001b[0m\u001b[37m\u001b[0m \u001b[1m1s\u001b[0m 6ms/step - accuracy: 0.9069 - loss: 0.2720 - val_accuracy: 0.9250 - val_loss: 0.2239\n",
      "Epoch 4/100\n",
      "\u001b[1m115/115\u001b[0m \u001b[32m━━━━━━━━━━━━━━━━━━━━\u001b[0m\u001b[37m\u001b[0m \u001b[1m1s\u001b[0m 5ms/step - accuracy: 0.9307 - loss: 0.2110 - val_accuracy: 0.9033 - val_loss: 0.2297\n",
      "Epoch 5/100\n",
      "\u001b[1m115/115\u001b[0m \u001b[32m━━━━━━━━━━━━━━━━━━━━\u001b[0m\u001b[37m\u001b[0m \u001b[1m1s\u001b[0m 5ms/step - accuracy: 0.9389 - loss: 0.1798 - val_accuracy: 0.9325 - val_loss: 0.1908\n",
      "Epoch 6/100\n",
      "\u001b[1m115/115\u001b[0m \u001b[32m━━━━━━━━━━━━━━━━━━━━\u001b[0m\u001b[37m\u001b[0m \u001b[1m1s\u001b[0m 5ms/step - accuracy: 0.9454 - loss: 0.1533 - val_accuracy: 0.9488 - val_loss: 0.1523\n",
      "Epoch 7/100\n",
      "\u001b[1m115/115\u001b[0m \u001b[32m━━━━━━━━━━━━━━━━━━━━\u001b[0m\u001b[37m\u001b[0m \u001b[1m1s\u001b[0m 5ms/step - accuracy: 0.9514 - loss: 0.1378 - val_accuracy: 0.9433 - val_loss: 0.1588\n",
      "Epoch 8/100\n",
      "\u001b[1m115/115\u001b[0m \u001b[32m━━━━━━━━━━━━━━━━━━━━\u001b[0m\u001b[37m\u001b[0m \u001b[1m1s\u001b[0m 5ms/step - accuracy: 0.9558 - loss: 0.1290 - val_accuracy: 0.9267 - val_loss: 0.1825\n",
      "Epoch 9/100\n",
      "\u001b[1m115/115\u001b[0m \u001b[32m━━━━━━━━━━━━━━━━━━━━\u001b[0m\u001b[37m\u001b[0m \u001b[1m1s\u001b[0m 5ms/step - accuracy: 0.9598 - loss: 0.1128 - val_accuracy: 0.9501 - val_loss: 0.1383\n",
      "Epoch 10/100\n",
      "\u001b[1m115/115\u001b[0m \u001b[32m━━━━━━━━━━━━━━━━━━━━\u001b[0m\u001b[37m\u001b[0m \u001b[1m1s\u001b[0m 5ms/step - accuracy: 0.9680 - loss: 0.0992 - val_accuracy: 0.9437 - val_loss: 0.1496\n",
      "Epoch 11/100\n",
      "\u001b[1m115/115\u001b[0m \u001b[32m━━━━━━━━━━━━━━━━━━━━\u001b[0m\u001b[37m\u001b[0m \u001b[1m1s\u001b[0m 6ms/step - accuracy: 0.9656 - loss: 0.0995 - val_accuracy: 0.9484 - val_loss: 0.1420\n",
      "Epoch 12/100\n",
      "\u001b[1m115/115\u001b[0m \u001b[32m━━━━━━━━━━━━━━━━━━━━\u001b[0m\u001b[37m\u001b[0m \u001b[1m1s\u001b[0m 5ms/step - accuracy: 0.9662 - loss: 0.0949 - val_accuracy: 0.9467 - val_loss: 0.1409\n",
      "Epoch 13/100\n",
      "\u001b[1m115/115\u001b[0m \u001b[32m━━━━━━━━━━━━━━━━━━━━\u001b[0m\u001b[37m\u001b[0m \u001b[1m1s\u001b[0m 5ms/step - accuracy: 0.9655 - loss: 0.0970 - val_accuracy: 0.9549 - val_loss: 0.1306\n",
      "Epoch 14/100\n",
      "\u001b[1m115/115\u001b[0m \u001b[32m━━━━━━━━━━━━━━━━━━━━\u001b[0m\u001b[37m\u001b[0m \u001b[1m1s\u001b[0m 5ms/step - accuracy: 0.9699 - loss: 0.0809 - val_accuracy: 0.9481 - val_loss: 0.1426\n",
      "Epoch 15/100\n",
      "\u001b[1m115/115\u001b[0m \u001b[32m━━━━━━━━━━━━━━━━━━━━\u001b[0m\u001b[37m\u001b[0m \u001b[1m1s\u001b[0m 5ms/step - accuracy: 0.9697 - loss: 0.0856 - val_accuracy: 0.9515 - val_loss: 0.1368\n",
      "Epoch 16/100\n",
      "\u001b[1m115/115\u001b[0m \u001b[32m━━━━━━━━━━━━━━━━━━━━\u001b[0m\u001b[37m\u001b[0m \u001b[1m1s\u001b[0m 5ms/step - accuracy: 0.9756 - loss: 0.0710 - val_accuracy: 0.9576 - val_loss: 0.1275\n",
      "Epoch 17/100\n",
      "\u001b[1m115/115\u001b[0m \u001b[32m━━━━━━━━━━━━━━━━━━━━\u001b[0m\u001b[37m\u001b[0m \u001b[1m1s\u001b[0m 5ms/step - accuracy: 0.9763 - loss: 0.0715 - val_accuracy: 0.9600 - val_loss: 0.1207\n",
      "Epoch 18/100\n",
      "\u001b[1m115/115\u001b[0m \u001b[32m━━━━━━━━━━━━━━━━━━━━\u001b[0m\u001b[37m\u001b[0m \u001b[1m1s\u001b[0m 6ms/step - accuracy: 0.9778 - loss: 0.0658 - val_accuracy: 0.9501 - val_loss: 0.1433\n",
      "Epoch 19/100\n",
      "\u001b[1m115/115\u001b[0m \u001b[32m━━━━━━━━━━━━━━━━━━━━\u001b[0m\u001b[37m\u001b[0m \u001b[1m1s\u001b[0m 5ms/step - accuracy: 0.9781 - loss: 0.0622 - val_accuracy: 0.9430 - val_loss: 0.1677\n",
      "Epoch 20/100\n",
      "\u001b[1m115/115\u001b[0m \u001b[32m━━━━━━━━━━━━━━━━━━━━\u001b[0m\u001b[37m\u001b[0m \u001b[1m1s\u001b[0m 5ms/step - accuracy: 0.9754 - loss: 0.0695 - val_accuracy: 0.9403 - val_loss: 0.1557\n",
      "Epoch 21/100\n",
      "\u001b[1m115/115\u001b[0m \u001b[32m━━━━━━━━━━━━━━━━━━━━\u001b[0m\u001b[37m\u001b[0m \u001b[1m1s\u001b[0m 5ms/step - accuracy: 0.9768 - loss: 0.0741 - val_accuracy: 0.9562 - val_loss: 0.1239\n",
      "Epoch 22/100\n",
      "\u001b[1m115/115\u001b[0m \u001b[32m━━━━━━━━━━━━━━━━━━━━\u001b[0m\u001b[37m\u001b[0m \u001b[1m1s\u001b[0m 5ms/step - accuracy: 0.9784 - loss: 0.0642 - val_accuracy: 0.9494 - val_loss: 0.1413\n",
      "Epoch 23/100\n",
      "\u001b[1m115/115\u001b[0m \u001b[32m━━━━━━━━━━━━━━━━━━━━\u001b[0m\u001b[37m\u001b[0m \u001b[1m1s\u001b[0m 5ms/step - accuracy: 0.9775 - loss: 0.0614 - val_accuracy: 0.9450 - val_loss: 0.1581\n",
      "Epoch 24/100\n",
      "\u001b[1m115/115\u001b[0m \u001b[32m━━━━━━━━━━━━━━━━━━━━\u001b[0m\u001b[37m\u001b[0m \u001b[1m1s\u001b[0m 5ms/step - accuracy: 0.9782 - loss: 0.0594 - val_accuracy: 0.9420 - val_loss: 0.1668\n",
      "Epoch 25/100\n",
      "\u001b[1m115/115\u001b[0m \u001b[32m━━━━━━━━━━━━━━━━━━━━\u001b[0m\u001b[37m\u001b[0m \u001b[1m1s\u001b[0m 5ms/step - accuracy: 0.9809 - loss: 0.0511 - val_accuracy: 0.9396 - val_loss: 0.1706\n",
      "Epoch 26/100\n",
      "\u001b[1m115/115\u001b[0m \u001b[32m━━━━━━━━━━━━━━━━━━━━\u001b[0m\u001b[37m\u001b[0m \u001b[1m1s\u001b[0m 5ms/step - accuracy: 0.9788 - loss: 0.0580 - val_accuracy: 0.9613 - val_loss: 0.1230\n",
      "Epoch 27/100\n",
      "\u001b[1m115/115\u001b[0m \u001b[32m━━━━━━━━━━━━━━━━━━━━\u001b[0m\u001b[37m\u001b[0m \u001b[1m1s\u001b[0m 5ms/step - accuracy: 0.9807 - loss: 0.0514 - val_accuracy: 0.9481 - val_loss: 0.1552\n",
      "Epoch 28/100\n",
      "\u001b[1m115/115\u001b[0m \u001b[32m━━━━━━━━━━━━━━━━━━━━\u001b[0m\u001b[37m\u001b[0m \u001b[1m1s\u001b[0m 5ms/step - accuracy: 0.9837 - loss: 0.0478 - val_accuracy: 0.9515 - val_loss: 0.1435\n",
      "Epoch 29/100\n",
      "\u001b[1m115/115\u001b[0m \u001b[32m━━━━━━━━━━━━━━━━━━━━\u001b[0m\u001b[37m\u001b[0m \u001b[1m1s\u001b[0m 5ms/step - accuracy: 0.9823 - loss: 0.0503 - val_accuracy: 0.9566 - val_loss: 0.1354\n",
      "Epoch 30/100\n",
      "\u001b[1m115/115\u001b[0m \u001b[32m━━━━━━━━━━━━━━━━━━━━\u001b[0m\u001b[37m\u001b[0m \u001b[1m1s\u001b[0m 5ms/step - accuracy: 0.9817 - loss: 0.0507 - val_accuracy: 0.9555 - val_loss: 0.1296\n",
      "Epoch 31/100\n",
      "\u001b[1m115/115\u001b[0m \u001b[32m━━━━━━━━━━━━━━━━━━━━\u001b[0m\u001b[37m\u001b[0m \u001b[1m1s\u001b[0m 5ms/step - accuracy: 0.9849 - loss: 0.0478 - val_accuracy: 0.9454 - val_loss: 0.1634\n",
      "Epoch 32/100\n",
      "\u001b[1m115/115\u001b[0m \u001b[32m━━━━━━━━━━━━━━━━━━━━\u001b[0m\u001b[37m\u001b[0m \u001b[1m1s\u001b[0m 5ms/step - accuracy: 0.9803 - loss: 0.0528 - val_accuracy: 0.9511 - val_loss: 0.1538\n",
      "Epoch 33/100\n",
      "\u001b[1m115/115\u001b[0m \u001b[32m━━━━━━━━━━━━━━━━━━━━\u001b[0m\u001b[37m\u001b[0m \u001b[1m1s\u001b[0m 6ms/step - accuracy: 0.9812 - loss: 0.0489 - val_accuracy: 0.9444 - val_loss: 0.1595\n",
      "Epoch 34/100\n",
      "\u001b[1m115/115\u001b[0m \u001b[32m━━━━━━━━━━━━━━━━━━━━\u001b[0m\u001b[37m\u001b[0m \u001b[1m1s\u001b[0m 6ms/step - accuracy: 0.9789 - loss: 0.0599 - val_accuracy: 0.9572 - val_loss: 0.1403\n",
      "Epoch 35/100\n",
      "\u001b[1m115/115\u001b[0m \u001b[32m━━━━━━━━━━━━━━━━━━━━\u001b[0m\u001b[37m\u001b[0m \u001b[1m1s\u001b[0m 6ms/step - accuracy: 0.9785 - loss: 0.0552 - val_accuracy: 0.9617 - val_loss: 0.1255\n",
      "Epoch 36/100\n",
      "\u001b[1m115/115\u001b[0m \u001b[32m━━━━━━━━━━━━━━━━━━━━\u001b[0m\u001b[37m\u001b[0m \u001b[1m1s\u001b[0m 6ms/step - accuracy: 0.9842 - loss: 0.0469 - val_accuracy: 0.9566 - val_loss: 0.1450\n",
      "Epoch 37/100\n",
      "\u001b[1m115/115\u001b[0m \u001b[32m━━━━━━━━━━━━━━━━━━━━\u001b[0m\u001b[37m\u001b[0m \u001b[1m1s\u001b[0m 5ms/step - accuracy: 0.9888 - loss: 0.0353 - val_accuracy: 0.9515 - val_loss: 0.1575\n",
      "Epoch 38/100\n",
      "\u001b[1m115/115\u001b[0m \u001b[32m━━━━━━━━━━━━━━━━━━━━\u001b[0m\u001b[37m\u001b[0m \u001b[1m1s\u001b[0m 5ms/step - accuracy: 0.9840 - loss: 0.0475 - val_accuracy: 0.9528 - val_loss: 0.1517\n",
      "Epoch 39/100\n",
      "\u001b[1m115/115\u001b[0m \u001b[32m━━━━━━━━━━━━━━━━━━━━\u001b[0m\u001b[37m\u001b[0m \u001b[1m1s\u001b[0m 5ms/step - accuracy: 0.9846 - loss: 0.0431 - val_accuracy: 0.9508 - val_loss: 0.1532\n",
      "Epoch 40/100\n",
      "\u001b[1m115/115\u001b[0m \u001b[32m━━━━━━━━━━━━━━━━━━━━\u001b[0m\u001b[37m\u001b[0m \u001b[1m1s\u001b[0m 5ms/step - accuracy: 0.9850 - loss: 0.0401 - val_accuracy: 0.9522 - val_loss: 0.1467\n",
      "Epoch 41/100\n",
      "\u001b[1m115/115\u001b[0m \u001b[32m━━━━━━━━━━━━━━━━━━━━\u001b[0m\u001b[37m\u001b[0m \u001b[1m1s\u001b[0m 5ms/step - accuracy: 0.9821 - loss: 0.0457 - val_accuracy: 0.9471 - val_loss: 0.1574\n",
      "Epoch 42/100\n",
      "\u001b[1m115/115\u001b[0m \u001b[32m━━━━━━━━━━━━━━━━━━━━\u001b[0m\u001b[37m\u001b[0m \u001b[1m1s\u001b[0m 5ms/step - accuracy: 0.9821 - loss: 0.0460 - val_accuracy: 0.9474 - val_loss: 0.1689\n",
      "Epoch 43/100\n",
      "\u001b[1m115/115\u001b[0m \u001b[32m━━━━━━━━━━━━━━━━━━━━\u001b[0m\u001b[37m\u001b[0m \u001b[1m1s\u001b[0m 5ms/step - accuracy: 0.9859 - loss: 0.0431 - val_accuracy: 0.9484 - val_loss: 0.1767\n",
      "Epoch 44/100\n",
      "\u001b[1m115/115\u001b[0m \u001b[32m━━━━━━━━━━━━━━━━━━━━\u001b[0m\u001b[37m\u001b[0m \u001b[1m1s\u001b[0m 5ms/step - accuracy: 0.9864 - loss: 0.0410 - val_accuracy: 0.9630 - val_loss: 0.1192\n",
      "Epoch 45/100\n",
      "\u001b[1m115/115\u001b[0m \u001b[32m━━━━━━━━━━━━━━━━━━━━\u001b[0m\u001b[37m\u001b[0m \u001b[1m1s\u001b[0m 6ms/step - accuracy: 0.9856 - loss: 0.0414 - val_accuracy: 0.9505 - val_loss: 0.1657\n",
      "Epoch 46/100\n",
      "\u001b[1m115/115\u001b[0m \u001b[32m━━━━━━━━━━━━━━━━━━━━\u001b[0m\u001b[37m\u001b[0m \u001b[1m1s\u001b[0m 5ms/step - accuracy: 0.9864 - loss: 0.0391 - val_accuracy: 0.9644 - val_loss: 0.1266\n",
      "Epoch 47/100\n",
      "\u001b[1m115/115\u001b[0m \u001b[32m━━━━━━━━━━━━━━━━━━━━\u001b[0m\u001b[37m\u001b[0m \u001b[1m1s\u001b[0m 5ms/step - accuracy: 0.9834 - loss: 0.0466 - val_accuracy: 0.9603 - val_loss: 0.1364\n",
      "Epoch 48/100\n",
      "\u001b[1m115/115\u001b[0m \u001b[32m━━━━━━━━━━━━━━━━━━━━\u001b[0m\u001b[37m\u001b[0m \u001b[1m1s\u001b[0m 5ms/step - accuracy: 0.9879 - loss: 0.0396 - val_accuracy: 0.9515 - val_loss: 0.1703\n",
      "Epoch 49/100\n",
      "\u001b[1m115/115\u001b[0m \u001b[32m━━━━━━━━━━━━━━━━━━━━\u001b[0m\u001b[37m\u001b[0m \u001b[1m1s\u001b[0m 5ms/step - accuracy: 0.9836 - loss: 0.0436 - val_accuracy: 0.9542 - val_loss: 0.1638\n",
      "Epoch 50/100\n",
      "\u001b[1m115/115\u001b[0m \u001b[32m━━━━━━━━━━━━━━━━━━━━\u001b[0m\u001b[37m\u001b[0m \u001b[1m1s\u001b[0m 5ms/step - accuracy: 0.9875 - loss: 0.0366 - val_accuracy: 0.9542 - val_loss: 0.1577\n",
      "Epoch 51/100\n",
      "\u001b[1m115/115\u001b[0m \u001b[32m━━━━━━━━━━━━━━━━━━━━\u001b[0m\u001b[37m\u001b[0m \u001b[1m1s\u001b[0m 6ms/step - accuracy: 0.9858 - loss: 0.0359 - val_accuracy: 0.9525 - val_loss: 0.1732\n",
      "Epoch 52/100\n",
      "\u001b[1m115/115\u001b[0m \u001b[32m━━━━━━━━━━━━━━━━━━━━\u001b[0m\u001b[37m\u001b[0m \u001b[1m1s\u001b[0m 5ms/step - accuracy: 0.9822 - loss: 0.0450 - val_accuracy: 0.9501 - val_loss: 0.1651\n",
      "Epoch 53/100\n",
      "\u001b[1m115/115\u001b[0m \u001b[32m━━━━━━━━━━━━━━━━━━━━\u001b[0m\u001b[37m\u001b[0m \u001b[1m1s\u001b[0m 5ms/step - accuracy: 0.9813 - loss: 0.0534 - val_accuracy: 0.9454 - val_loss: 0.1769\n",
      "Epoch 54/100\n",
      "\u001b[1m115/115\u001b[0m \u001b[32m━━━━━━━━━━━━━━━━━━━━\u001b[0m\u001b[37m\u001b[0m \u001b[1m1s\u001b[0m 5ms/step - accuracy: 0.9834 - loss: 0.0451 - val_accuracy: 0.9654 - val_loss: 0.1293\n",
      "Epoch 55/100\n",
      "\u001b[1m115/115\u001b[0m \u001b[32m━━━━━━━━━━━━━━━━━━━━\u001b[0m\u001b[37m\u001b[0m \u001b[1m1s\u001b[0m 5ms/step - accuracy: 0.9852 - loss: 0.0411 - val_accuracy: 0.9515 - val_loss: 0.1681\n",
      "Epoch 56/100\n",
      "\u001b[1m115/115\u001b[0m \u001b[32m━━━━━━━━━━━━━━━━━━━━\u001b[0m\u001b[37m\u001b[0m \u001b[1m1s\u001b[0m 5ms/step - accuracy: 0.9840 - loss: 0.0467 - val_accuracy: 0.9562 - val_loss: 0.1550\n",
      "Epoch 57/100\n",
      "\u001b[1m115/115\u001b[0m \u001b[32m━━━━━━━━━━━━━━━━━━━━\u001b[0m\u001b[37m\u001b[0m \u001b[1m1s\u001b[0m 5ms/step - accuracy: 0.9876 - loss: 0.0324 - val_accuracy: 0.9596 - val_loss: 0.1402\n",
      "Epoch 58/100\n",
      "\u001b[1m115/115\u001b[0m \u001b[32m━━━━━━━━━━━━━━━━━━━━\u001b[0m\u001b[37m\u001b[0m \u001b[1m1s\u001b[0m 6ms/step - accuracy: 0.9834 - loss: 0.0404 - val_accuracy: 0.9555 - val_loss: 0.1597\n",
      "Epoch 59/100\n",
      "\u001b[1m115/115\u001b[0m \u001b[32m━━━━━━━━━━━━━━━━━━━━\u001b[0m\u001b[37m\u001b[0m \u001b[1m1s\u001b[0m 5ms/step - accuracy: 0.9878 - loss: 0.0365 - val_accuracy: 0.9566 - val_loss: 0.1449\n",
      "Epoch 60/100\n",
      "\u001b[1m115/115\u001b[0m \u001b[32m━━━━━━━━━━━━━━━━━━━━\u001b[0m\u001b[37m\u001b[0m \u001b[1m1s\u001b[0m 5ms/step - accuracy: 0.9865 - loss: 0.0392 - val_accuracy: 0.9596 - val_loss: 0.1367\n",
      "Epoch 61/100\n",
      "\u001b[1m115/115\u001b[0m \u001b[32m━━━━━━━━━━━━━━━━━━━━\u001b[0m\u001b[37m\u001b[0m \u001b[1m1s\u001b[0m 5ms/step - accuracy: 0.9837 - loss: 0.0453 - val_accuracy: 0.9420 - val_loss: 0.2047\n",
      "Epoch 62/100\n",
      "\u001b[1m115/115\u001b[0m \u001b[32m━━━━━━━━━━━━━━━━━━━━\u001b[0m\u001b[37m\u001b[0m \u001b[1m1s\u001b[0m 5ms/step - accuracy: 0.9840 - loss: 0.0470 - val_accuracy: 0.9661 - val_loss: 0.1275\n",
      "Epoch 63/100\n",
      "\u001b[1m115/115\u001b[0m \u001b[32m━━━━━━━━━━━━━━━━━━━━\u001b[0m\u001b[37m\u001b[0m \u001b[1m1s\u001b[0m 5ms/step - accuracy: 0.9875 - loss: 0.0398 - val_accuracy: 0.9610 - val_loss: 0.1286\n",
      "Epoch 64/100\n",
      "\u001b[1m115/115\u001b[0m \u001b[32m━━━━━━━━━━━━━━━━━━━━\u001b[0m\u001b[37m\u001b[0m \u001b[1m1s\u001b[0m 5ms/step - accuracy: 0.9870 - loss: 0.0410 - val_accuracy: 0.9471 - val_loss: 0.1829\n",
      "Epoch 65/100\n",
      "\u001b[1m115/115\u001b[0m \u001b[32m━━━━━━━━━━━━━━━━━━━━\u001b[0m\u001b[37m\u001b[0m \u001b[1m1s\u001b[0m 5ms/step - accuracy: 0.9810 - loss: 0.0507 - val_accuracy: 0.9627 - val_loss: 0.1272\n",
      "Epoch 66/100\n",
      "\u001b[1m115/115\u001b[0m \u001b[32m━━━━━━━━━━━━━━━━━━━━\u001b[0m\u001b[37m\u001b[0m \u001b[1m1s\u001b[0m 4ms/step - accuracy: 0.9879 - loss: 0.0352 - val_accuracy: 0.9532 - val_loss: 0.1755\n",
      "Epoch 67/100\n",
      "\u001b[1m115/115\u001b[0m \u001b[32m━━━━━━━━━━━━━━━━━━━━\u001b[0m\u001b[37m\u001b[0m \u001b[1m1s\u001b[0m 5ms/step - accuracy: 0.9809 - loss: 0.0503 - val_accuracy: 0.9491 - val_loss: 0.1846\n",
      "Epoch 68/100\n",
      "\u001b[1m115/115\u001b[0m \u001b[32m━━━━━━━━━━━━━━━━━━━━\u001b[0m\u001b[37m\u001b[0m \u001b[1m1s\u001b[0m 5ms/step - accuracy: 0.9853 - loss: 0.0347 - val_accuracy: 0.9552 - val_loss: 0.1697\n",
      "Epoch 69/100\n",
      "\u001b[1m115/115\u001b[0m \u001b[32m━━━━━━━━━━━━━━━━━━━━\u001b[0m\u001b[37m\u001b[0m \u001b[1m1s\u001b[0m 5ms/step - accuracy: 0.9881 - loss: 0.0325 - val_accuracy: 0.9572 - val_loss: 0.1598\n",
      "Epoch 70/100\n",
      "\u001b[1m115/115\u001b[0m \u001b[32m━━━━━━━━━━━━━━━━━━━━\u001b[0m\u001b[37m\u001b[0m \u001b[1m1s\u001b[0m 5ms/step - accuracy: 0.9872 - loss: 0.0338 - val_accuracy: 0.9511 - val_loss: 0.1788\n",
      "Epoch 71/100\n",
      "\u001b[1m115/115\u001b[0m \u001b[32m━━━━━━━━━━━━━━━━━━━━\u001b[0m\u001b[37m\u001b[0m \u001b[1m1s\u001b[0m 4ms/step - accuracy: 0.9884 - loss: 0.0388 - val_accuracy: 0.9539 - val_loss: 0.1588\n",
      "Epoch 72/100\n",
      "\u001b[1m115/115\u001b[0m \u001b[32m━━━━━━━━━━━━━━━━━━━━\u001b[0m\u001b[37m\u001b[0m \u001b[1m1s\u001b[0m 4ms/step - accuracy: 0.9870 - loss: 0.0346 - val_accuracy: 0.9617 - val_loss: 0.1379\n",
      "Epoch 73/100\n",
      "\u001b[1m115/115\u001b[0m \u001b[32m━━━━━━━━━━━━━━━━━━━━\u001b[0m\u001b[37m\u001b[0m \u001b[1m1s\u001b[0m 5ms/step - accuracy: 0.9872 - loss: 0.0374 - val_accuracy: 0.9498 - val_loss: 0.1795\n",
      "Epoch 74/100\n",
      "\u001b[1m115/115\u001b[0m \u001b[32m━━━━━━━━━━━━━━━━━━━━\u001b[0m\u001b[37m\u001b[0m \u001b[1m1s\u001b[0m 5ms/step - accuracy: 0.9891 - loss: 0.0307 - val_accuracy: 0.9542 - val_loss: 0.1624\n",
      "Epoch 75/100\n",
      "\u001b[1m115/115\u001b[0m \u001b[32m━━━━━━━━━━━━━━━━━━━━\u001b[0m\u001b[37m\u001b[0m \u001b[1m1s\u001b[0m 6ms/step - accuracy: 0.9859 - loss: 0.0394 - val_accuracy: 0.9522 - val_loss: 0.1641\n",
      "Epoch 76/100\n",
      "\u001b[1m115/115\u001b[0m \u001b[32m━━━━━━━━━━━━━━━━━━━━\u001b[0m\u001b[37m\u001b[0m \u001b[1m1s\u001b[0m 5ms/step - accuracy: 0.9869 - loss: 0.0374 - val_accuracy: 0.9647 - val_loss: 0.1292\n",
      "Epoch 77/100\n",
      "\u001b[1m115/115\u001b[0m \u001b[32m━━━━━━━━━━━━━━━━━━━━\u001b[0m\u001b[37m\u001b[0m \u001b[1m1s\u001b[0m 5ms/step - accuracy: 0.9906 - loss: 0.0261 - val_accuracy: 0.9637 - val_loss: 0.1179\n",
      "Epoch 78/100\n",
      "\u001b[1m115/115\u001b[0m \u001b[32m━━━━━━━━━━━━━━━━━━━━\u001b[0m\u001b[37m\u001b[0m \u001b[1m1s\u001b[0m 5ms/step - accuracy: 0.9865 - loss: 0.0370 - val_accuracy: 0.9365 - val_loss: 0.2424\n",
      "Epoch 79/100\n",
      "\u001b[1m115/115\u001b[0m \u001b[32m━━━━━━━━━━━━━━━━━━━━\u001b[0m\u001b[37m\u001b[0m \u001b[1m1s\u001b[0m 5ms/step - accuracy: 0.9871 - loss: 0.0331 - val_accuracy: 0.9562 - val_loss: 0.1582\n",
      "Epoch 80/100\n",
      "\u001b[1m115/115\u001b[0m \u001b[32m━━━━━━━━━━━━━━━━━━━━\u001b[0m\u001b[37m\u001b[0m \u001b[1m1s\u001b[0m 6ms/step - accuracy: 0.9828 - loss: 0.0493 - val_accuracy: 0.9471 - val_loss: 0.1851\n",
      "Epoch 81/100\n",
      "\u001b[1m115/115\u001b[0m \u001b[32m━━━━━━━━━━━━━━━━━━━━\u001b[0m\u001b[37m\u001b[0m \u001b[1m1s\u001b[0m 5ms/step - accuracy: 0.9870 - loss: 0.0352 - val_accuracy: 0.9386 - val_loss: 0.2380\n",
      "Epoch 82/100\n",
      "\u001b[1m115/115\u001b[0m \u001b[32m━━━━━━━━━━━━━━━━━━━━\u001b[0m\u001b[37m\u001b[0m \u001b[1m1s\u001b[0m 5ms/step - accuracy: 0.9880 - loss: 0.0336 - val_accuracy: 0.9654 - val_loss: 0.1132\n",
      "Epoch 83/100\n",
      "\u001b[1m115/115\u001b[0m \u001b[32m━━━━━━━━━━━━━━━━━━━━\u001b[0m\u001b[37m\u001b[0m \u001b[1m1s\u001b[0m 5ms/step - accuracy: 0.9880 - loss: 0.0323 - val_accuracy: 0.9593 - val_loss: 0.1475\n",
      "Epoch 84/100\n",
      "\u001b[1m115/115\u001b[0m \u001b[32m━━━━━━━━━━━━━━━━━━━━\u001b[0m\u001b[37m\u001b[0m \u001b[1m1s\u001b[0m 5ms/step - accuracy: 0.9895 - loss: 0.0287 - val_accuracy: 0.9528 - val_loss: 0.1841\n",
      "Epoch 85/100\n",
      "\u001b[1m115/115\u001b[0m \u001b[32m━━━━━━━━━━━━━━━━━━━━\u001b[0m\u001b[37m\u001b[0m \u001b[1m1s\u001b[0m 5ms/step - accuracy: 0.9869 - loss: 0.0302 - val_accuracy: 0.9630 - val_loss: 0.1328\n",
      "Epoch 86/100\n",
      "\u001b[1m115/115\u001b[0m \u001b[32m━━━━━━━━━━━━━━━━━━━━\u001b[0m\u001b[37m\u001b[0m \u001b[1m1s\u001b[0m 4ms/step - accuracy: 0.9882 - loss: 0.0362 - val_accuracy: 0.9447 - val_loss: 0.2013\n",
      "Epoch 87/100\n",
      "\u001b[1m115/115\u001b[0m \u001b[32m━━━━━━━━━━━━━━━━━━━━\u001b[0m\u001b[37m\u001b[0m \u001b[1m1s\u001b[0m 5ms/step - accuracy: 0.9890 - loss: 0.0280 - val_accuracy: 0.9559 - val_loss: 0.1636\n",
      "Epoch 88/100\n",
      "\u001b[1m115/115\u001b[0m \u001b[32m━━━━━━━━━━━━━━━━━━━━\u001b[0m\u001b[37m\u001b[0m \u001b[1m1s\u001b[0m 5ms/step - accuracy: 0.9884 - loss: 0.0358 - val_accuracy: 0.9562 - val_loss: 0.1696\n",
      "Epoch 89/100\n",
      "\u001b[1m115/115\u001b[0m \u001b[32m━━━━━━━━━━━━━━━━━━━━\u001b[0m\u001b[37m\u001b[0m \u001b[1m1s\u001b[0m 5ms/step - accuracy: 0.9891 - loss: 0.0290 - val_accuracy: 0.9586 - val_loss: 0.1506\n",
      "Epoch 90/100\n",
      "\u001b[1m115/115\u001b[0m \u001b[32m━━━━━━━━━━━━━━━━━━━━\u001b[0m\u001b[37m\u001b[0m \u001b[1m1s\u001b[0m 6ms/step - accuracy: 0.9918 - loss: 0.0236 - val_accuracy: 0.9559 - val_loss: 0.1639\n",
      "Epoch 91/100\n",
      "\u001b[1m115/115\u001b[0m \u001b[32m━━━━━━━━━━━━━━━━━━━━\u001b[0m\u001b[37m\u001b[0m \u001b[1m1s\u001b[0m 6ms/step - accuracy: 0.9882 - loss: 0.0294 - val_accuracy: 0.9474 - val_loss: 0.1976\n",
      "Epoch 92/100\n",
      "\u001b[1m115/115\u001b[0m \u001b[32m━━━━━━━━━━━━━━━━━━━━\u001b[0m\u001b[37m\u001b[0m \u001b[1m1s\u001b[0m 5ms/step - accuracy: 0.9896 - loss: 0.0287 - val_accuracy: 0.9640 - val_loss: 0.1186\n",
      "Epoch 93/100\n",
      "\u001b[1m115/115\u001b[0m \u001b[32m━━━━━━━━━━━━━━━━━━━━\u001b[0m\u001b[37m\u001b[0m \u001b[1m1s\u001b[0m 5ms/step - accuracy: 0.9873 - loss: 0.0376 - val_accuracy: 0.9539 - val_loss: 0.1717\n",
      "Epoch 94/100\n",
      "\u001b[1m115/115\u001b[0m \u001b[32m━━━━━━━━━━━━━━━━━━━━\u001b[0m\u001b[37m\u001b[0m \u001b[1m1s\u001b[0m 5ms/step - accuracy: 0.9912 - loss: 0.0275 - val_accuracy: 0.9203 - val_loss: 0.3365\n",
      "Epoch 95/100\n",
      "\u001b[1m115/115\u001b[0m \u001b[32m━━━━━━━━━━━━━━━━━━━━\u001b[0m\u001b[37m\u001b[0m \u001b[1m1s\u001b[0m 5ms/step - accuracy: 0.9927 - loss: 0.0293 - val_accuracy: 0.9325 - val_loss: 0.2750\n",
      "Epoch 96/100\n",
      "\u001b[1m115/115\u001b[0m \u001b[32m━━━━━━━━━━━━━━━━━━━━\u001b[0m\u001b[37m\u001b[0m \u001b[1m1s\u001b[0m 5ms/step - accuracy: 0.9805 - loss: 0.0549 - val_accuracy: 0.9600 - val_loss: 0.1492\n",
      "Epoch 97/100\n",
      "\u001b[1m115/115\u001b[0m \u001b[32m━━━━━━━━━━━━━━━━━━━━\u001b[0m\u001b[37m\u001b[0m \u001b[1m1s\u001b[0m 5ms/step - accuracy: 0.9883 - loss: 0.0307 - val_accuracy: 0.9634 - val_loss: 0.1254\n",
      "Epoch 98/100\n",
      "\u001b[1m115/115\u001b[0m \u001b[32m━━━━━━━━━━━━━━━━━━━━\u001b[0m\u001b[37m\u001b[0m \u001b[1m1s\u001b[0m 5ms/step - accuracy: 0.9876 - loss: 0.0303 - val_accuracy: 0.9528 - val_loss: 0.1694\n",
      "Epoch 99/100\n",
      "\u001b[1m115/115\u001b[0m \u001b[32m━━━━━━━━━━━━━━━━━━━━\u001b[0m\u001b[37m\u001b[0m \u001b[1m1s\u001b[0m 5ms/step - accuracy: 0.9860 - loss: 0.0365 - val_accuracy: 0.9566 - val_loss: 0.1571\n",
      "Epoch 100/100\n",
      "\u001b[1m115/115\u001b[0m \u001b[32m━━━━━━━━━━━━━━━━━━━━\u001b[0m\u001b[37m\u001b[0m \u001b[1m1s\u001b[0m 5ms/step - accuracy: 0.9870 - loss: 0.0308 - val_accuracy: 0.9606 - val_loss: 0.1301\n",
      "\u001b[1m93/93\u001b[0m \u001b[32m━━━━━━━━━━━━━━━━━━━━\u001b[0m\u001b[37m\u001b[0m \u001b[1m0s\u001b[0m 2ms/step - accuracy: 0.9572 - loss: 0.1373\n",
      "Test Loss: 0.1301\n",
      "Test Accuracy: 0.9606\n"
     ]
    }
   ],
   "source": [
    "# Training the LSTM model on the training data for 100 epochs with a batch size of 64,\n",
    "# while validating performance on the test data during training\n",
    "history = model.fit(X_train_reshaped, y_train, epochs=100, batch_size=64, validation_data=(X_test_reshaped, y_test))\n",
    "\n",
    "# Evaluating the trained model on the test dataset to get loss and accuracy metrics\n",
    "test_loss, test_accuracy = model.evaluate(X_test_reshaped, y_test)\n",
    "\n",
    "# Printing the test loss with 4 decimal places\n",
    "print(f\"Test Loss: {test_loss:.4f}\")\n",
    "\n",
    "# Printing the test accuracy with 4 decimal places\n",
    "print(f\"Test Accuracy: {test_accuracy:.4f}\")\n"
   ]
  },
  {
   "cell_type": "code",
   "execution_count": 18,
   "id": "c0f2e542",
   "metadata": {},
   "outputs": [
    {
     "data": {
      "image/png": "[encoded data removed]",
      "text/plain": [
       "<Figure size 640x480 with 1 Axes>"
      ]
     },
     "metadata": {},
     "output_type": "display_data"
    }
   ],
   "source": [
    "# Plotting the training accuracy over epochs\n",
    "plt.plot(history.history['accuracy'], label='Train Accuracy')\n",
    "\n",
    "# Plotting the validation (test) accuracy over epochs\n",
    "plt.plot(history.history['val_accuracy'], label='Test Accuracy')\n",
    "\n",
    "# Labeling the x-axis as 'Epochs'\n",
    "plt.xlabel('Epochs')\n",
    "\n",
    "# Labeling the y-axis as 'Accuracy'\n",
    "plt.ylabel('Accuracy')\n",
    "\n",
    "# Adding a legend to distinguish between training and test accuracy lines\n",
    "plt.legend()\n",
    "\n",
    "# Displaying the plot\n",
    "plt.show()\n"
   ]
  },
  {
   "cell_type": "markdown",
   "id": "56af5487",
   "metadata": {},
   "source": [
    "#### Random Forest"
   ]
  },
  {
   "cell_type": "code",
   "execution_count": 19,
   "id": "caf0dd9e",
   "metadata": {},
   "outputs": [
    {
     "name": "stdout",
     "output_type": "stream",
     "text": [
      "Validation Accuracy: 0.9247\n",
      "\n",
      "Classification Report:\n",
      "               precision    recall  f1-score   support\n",
      "\n",
      "           0       1.00      1.00      1.00       537\n",
      "           1       0.91      0.89      0.90       491\n",
      "           2       0.90      0.92      0.91       532\n",
      "           3       0.90      0.96      0.93       496\n",
      "           4       0.95      0.84      0.89       420\n",
      "           5       0.89      0.92      0.90       471\n",
      "\n",
      "    accuracy                           0.92      2947\n",
      "   macro avg       0.93      0.92      0.92      2947\n",
      "weighted avg       0.93      0.92      0.92      2947\n",
      "\n"
     ]
    }
   ],
   "source": [
    "# Importing RandomForestClassifier for classification and evaluation metrics from sklearn\n",
    "from sklearn.ensemble import RandomForestClassifier\n",
    "from sklearn.metrics import accuracy_score, classification_report, confusion_matrix\n",
    "\n",
    "# Importing seaborn and matplotlib for visualization\n",
    "import seaborn as sns\n",
    "import matplotlib.pyplot as plt\n",
    "\n",
    "# Initializing the Random Forest classifier with 100 trees and a fixed random seed for reproducibility\n",
    "rf_model = RandomForestClassifier(n_estimators=100, random_state=42)\n",
    "\n",
    "# Training the Random Forest model on the training data\n",
    "rf_model.fit(X_train, y_train)\n",
    "\n",
    "# Predicting the target labels for the test data\n",
    "y_pred = rf_model.predict(X_test)\n",
    "\n",
    "# Calculating the accuracy of the model predictions on the test data\n",
    "accuracy = accuracy_score(y_test, y_pred)\n",
    "\n",
    "# Printing the validation accuracy with 4 decimal places\n",
    "print(f\"Validation Accuracy: {accuracy:.4f}\")\n",
    "\n",
    "# Printing the detailed classification report including precision, recall, and f1-score\n",
    "print(\"\\nClassification Report:\\n\", classification_report(y_test, y_pred))\n"
   ]
  },
  {
   "cell_type": "markdown",
   "id": "a45b0fc2",
   "metadata": {},
   "source": [
    "#### SVM"
   ]
  },
  {
   "cell_type": "code",
   "execution_count": 20,
   "id": "f785f0f4",
   "metadata": {},
   "outputs": [
    {
     "name": "stdout",
     "output_type": "stream",
     "text": [
      "Validation Accuracy: 0.9511\n",
      "\n",
      "Classification Report:\n",
      "               precision    recall  f1-score   support\n",
      "\n",
      "           0       1.00      1.00      1.00       537\n",
      "           1       0.94      0.89      0.91       491\n",
      "           2       0.90      0.95      0.93       532\n",
      "           3       0.94      0.99      0.96       496\n",
      "           4       0.99      0.92      0.95       420\n",
      "           5       0.94      0.96      0.95       471\n",
      "\n",
      "    accuracy                           0.95      2947\n",
      "   macro avg       0.95      0.95      0.95      2947\n",
      "weighted avg       0.95      0.95      0.95      2947\n",
      "\n"
     ]
    }
   ],
   "source": [
    "# Importing SVC (Support Vector Classifier) and evaluation metrics from sklearn\n",
    "from sklearn.svm import SVC\n",
    "from sklearn.metrics import accuracy_score, classification_report, confusion_matrix\n",
    "\n",
    "# Importing seaborn and matplotlib for visualization\n",
    "import seaborn as sns\n",
    "import matplotlib.pyplot as plt\n",
    "\n",
    "# Initializing the SVM classifier with RBF kernel, regularization parameter C=1,\n",
    "# gamma set to 'scale', and a fixed random state for reproducibility\n",
    "svm_model = SVC(kernel='rbf', C=1, gamma='scale', random_state=42)\n",
    "\n",
    "# Training the SVM model on the training data\n",
    "svm_model.fit(X_train, y_train)\n",
    "\n",
    "# Predicting the target labels for the test data using the trained SVM model\n",
    "y_pred = svm_model.predict(X_test)\n",
    "\n",
    "# Calculating the accuracy of the SVM model predictions on the test data\n",
    "accuracy = accuracy_score(y_test, y_pred)\n",
    "\n",
    "# Printing the validation accuracy with 4 decimal places\n",
    "print(f\"Validation Accuracy: {accuracy:.4f}\")\n",
    "\n",
    "# Printing the detailed classification report including precision, recall, and f1-score\n",
    "print(\"\\nClassification Report:\\n\", classification_report(y_test, y_pred))\n"
   ]
  }
 ],
 "metadata": {
  "kernelspec": {
   "display_name": "Python 3",
   "language": "python",
   "name": "python3"
  },
  "language_info": {
   "codemirror_mode": {
    "name": "ipython",
    "version": 3
   },
   "file_extension": ".py",
   "mimetype": "text/x-python",
   "name": "python",
   "nbconvert_exporter": "python",
   "pygments_lexer": "ipython3",
   "version": "3.9.9"
  }
 },
 "nbformat": 4,
 "nbformat_minor": 5
}
